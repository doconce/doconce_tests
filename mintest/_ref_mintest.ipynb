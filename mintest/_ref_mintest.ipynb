{
 "cells": [
  {
   "cell_type": "markdown",
   "metadata": {},
   "source": [
    "<!-- dom:TITLE: A minimal test that DocOnce works -->\n",
    "# A minimal test that DocOnce works\n",
    "<!-- dom:AUTHOR: Hans Petter Langtangen -->\n",
    "<!-- Author: -->  \n",
    "**Hans Petter Langtangen**\n",
    "\n",
    "Date: **Jan 1, 2031**\n",
    "\n",
    "**Summary.** This is a small document for testing the installation of DocOnce.\n",
    "\n",
    "\n",
    "\n",
    "\n",
    "\n",
    "\n",
    "\n",
    "\n",
    "# Test of plain text\n",
    "\n",
    "## Test standard text with lists and inline tagging\n",
    "\n",
    "Here are some DocOnce features:\n",
    "\n",
    "  * DocOnce addresses small and large documents containing\n",
    "    *text with much computer source code and\n",
    "    LaTeX mathematics*, where the output is desired in different formats\n",
    "    such as LaTeX, pdfLaTeX, Sphinx, HTML,\n",
    "    MediaWiki, blogger.com, and wordpress.com.\n",
    "    A piece of DocOnce text can enter (e.g.) a classical\n",
    "    science book, an ebook, a web document, and a blog post.\n",
    "\n",
    "  * DocOnce offers a range of HTML designs, including many\n",
    "    Bootstrap and Sphinx styles and [solarized color schemes](http://ethanschoonover.com/solarized).\n",
    "    A special feature is the many styles for **admonitions** (boxes for\n",
    "    warning, notice, question, etc.) in HTML and LaTeX.\n",
    "\n",
    "  * DocOnce targets in particular large book projects where many different\n",
    "    pieces of text and software can be assembled in different ways\n",
    "    and published in different formats for different devices\n",
    "    (see [example](http://hplgit.github.io/setup4book-doconce/doc/web/index.html)).\n",
    "\n",
    "  * DocOnce enables authors who write for many times of media\n",
    "    (blog posts, wikis, LaTeX manuscripts, Sphinx, HTML) to use a common\n",
    "    source language such that lots of different pieces can easily be\n",
    "    brought together later to form a coherent (big) document.\n",
    "\n",
    "  * DocOnce has good support for copying computer code\n",
    "    directly from the source code files via regular expressions\n",
    "    for the start and end lines.\n",
    "\n",
    "  * DocOnce first runs two preprocessors (Preprocess and Mako), which\n",
    "    allow programming constructs (includes, if-tests, function calls)\n",
    "    as part of the text. This feature makes it easy to write *one text*\n",
    "    with different flavors: long vs short text, Python vs Matlab code\n",
    "    examples, experimental vs mature content.\n",
    "\n",
    "  * DocOnce can be converted to plain *untagged* text,\n",
    "    often desirable for email and computer code documentation.\n",
    "\n",
    "  * DocOnce markup does include tags, so the format is more tagged than\n",
    "    Markdown, but less than reST, and very much less than\n",
    "    LaTeX and HTML.\n",
    "\n",
    "  * Compared to the related tools Sphinx and Markdown, DocOnce\n",
    "    allows more types of equations (especially systems of\n",
    "    equations with references), has more flexible\n",
    "    inclusion of source code, integrates preprocessors, has\n",
    "    special support for exercises, and produces\n",
    "    cleaner LaTeX and HTML output.\n",
    "\n",
    "## Test of figures and movies\n",
    "\n",
    "Inline figure:\n",
    "\n",
    "<!-- dom:FIGURE: [../doc/src/manual/fig/wave1D.png, width=300 frac=0.7] -->\n",
    "<!-- begin figure -->\n",
    "\n",
    "<p></p>\n",
    "<img src=\"../doc/src/manual/fig/wave1D.png\" width=300>\n",
    "\n",
    "<!-- end figure -->\n",
    "\n",
    "\n",
    "[Figure](#fig1) has a caption.\n",
    "\n",
    "<!-- dom:FIGURE: [../doc/src/manual/fig/wave1D.png, width=300 frac=0.7] Figure with caption. <div id=\"fig1\"></div> -->\n",
    "<!-- begin figure -->\n",
    "<div id=\"fig1\"></div>\n",
    "\n",
    "<p>Figure with caption.</p>\n",
    "<img src=\"../doc/src/manual/fig/wave1D.png\" width=300>\n",
    "\n",
    "<!-- end figure -->\n",
    "\n",
    "\n",
    "Here is a YouTube movie:\n",
    "\n",
    "<!-- dom:MOVIE: [https://www.youtube.com/embed/P8VcZzgdfSc, width=420 height=315] -->\n",
    "<!-- begin movie -->"
   ]
  },
  {
   "cell_type": "code",
   "execution_count": 1,
   "metadata": {
    "collapsed": false
   },
   "outputs": [],
   "source": [
    "from IPython.display import HTML\n",
    "_s = \"\"\"\n",
    "<iframe width=\"420\" height=\"315\" src=\"https://www.youtube.com/embed/P8VcZzgdfSc\" frameborder=\"0\" allowfullscreen></iframe>\n",
    "\"\"\"\n",
    "HTML(_s)"
   ]
  },
  {
   "cell_type": "markdown",
   "metadata": {},
   "source": [
    "<!-- end movie -->\n",
    "\n",
    "\n",
    "<!-- dom:MOVIE: [../doc/src/manual/mov/wave.webm, width=700 height=400] Movie on the hard disk: 1D wave motion. -->\n",
    "<!-- begin movie -->"
   ]
  },
  {
   "cell_type": "code",
   "execution_count": 2,
   "metadata": {
    "collapsed": false
   },
   "outputs": [],
   "source": [
    "_s = \"\"\"\n",
    "<div>\n",
    "<video  loop controls width='700' height='400' preload='none'>\n",
    "    <source src='../doc/src/manual/mov/wave.mp4'  type='video/mp4;  codecs=\"avc1.42E01E, mp4a.40.2\"'>\n",
    "    <source src='../doc/src/manual/mov/wave.webm' type='video/webm; codecs=\"vp8, vorbis\"'>\n",
    "    <source src='../doc/src/manual/mov/wave.ogg'  type='video/ogg;  codecs=\"theora, vorbis\"'>\n",
    "</video>\n",
    "</div>\n",
    "<p><em>Movie on the hard disk: 1D wave motion.</em></p>\n",
    "\n",
    "<!-- Issue warning if in a Safari browser -->\n",
    "<script language=\"javascript\">\n",
    "if (!!(window.safari)) {\n",
    "  document.write(\"<div style=\\\"width: 95%%; padding: 10px; border: 1px solid #100; border-radius: 4px;\\\"><p><font color=\\\"red\\\">The above movie will not play in Safari - use Chrome, Firefox, or Opera.</font></p></div>\")}\n",
    "</script>\n",
    "\n",
    "\"\"\"\n",
    "HTML(_s)"
   ]
  },
  {
   "cell_type": "markdown",
   "metadata": {},
   "source": [
    "<!-- end movie -->\n",
    "\n",
    "\n",
    "# Test of math, code, admons, quiz\n",
    "\n",
    "## Math\n",
    "\n",
    "We have"
   ]
  },
  {
   "cell_type": "markdown",
   "metadata": {},
   "source": [
    "<!-- Equation labels as ordinary links -->\n",
    "<div id=\"_auto1\"></div>\n",
    "\n",
    "$$\n",
    "\\begin{equation}\n",
    "F = \\int_a^b f(x)dx.\n",
    "\\label{_auto1} \\tag{1}\n",
    "\\end{equation}\n",
    "$$"
   ]
  },
  {
   "cell_type": "markdown",
   "metadata": {},
   "source": [
    "## Code\n",
    "\n",
    "We can do the integral by"
   ]
  },
  {
   "cell_type": "code",
   "execution_count": 3,
   "metadata": {
    "collapsed": false
   },
   "outputs": [],
   "source": [
    "from sympy import *\n",
    "x = 'symbols('x')\n",
    "f = x*sin(x)*exp(-x)\n",
    "integrate(f, x(0, 4))"
   ]
  },
  {
   "cell_type": "markdown",
   "metadata": {},
   "source": [
    "Or we can do it numerically via the Trapezoidal rule:"
   ]
  },
  {
   "cell_type": "code",
   "execution_count": 4,
   "metadata": {
    "collapsed": false
   },
   "outputs": [],
   "source": [
    "import numpy\n",
    "\n",
    "def trapezoidal(f, a, b, n=100):\n",
    "    \"\"\"Integrate f from a to b with 100 intervals.\"\"\"\n",
    "    x = numpy.linspace(a, b, n+1)\n",
    "    F = (b-a)/float(n)*(numpy.sum(f(x)) - 0.5*(f(a) + f(b)))\n",
    "    return F\n",
    "\n",
    "def f(x):\n",
    "    return x*numpy.sin(x)*numpy.exp(-x)\n",
    "\n",
    "print trapezoidal(f, 0, 4)"
   ]
  },
  {
   "cell_type": "markdown",
   "metadata": {},
   "source": [
    "## Admonitions\n",
    "\n",
    "**Question.**\n",
    "\n",
    "How do adminitions look like? That depends on the output format and\n",
    "what type of admon design in the format one has chosen.\n",
    "\n",
    "\n",
    "\n",
    "**White space is important!**\n",
    "\n",
    "Many DocOnce errors arise from wrong use of white space. The white space\n",
    "is not as critical as in reStructuredText, but is not ignored either,\n",
    "as in LaTeX and HTML."
   ]
  }
 ],
 "metadata": {},
 "nbformat": 4,
 "nbformat_minor": 2
}
